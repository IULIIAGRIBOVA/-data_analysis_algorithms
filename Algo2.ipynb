{
  "nbformat": 4,
  "nbformat_minor": 0,
  "metadata": {
    "colab": {
      "name": "Algo2.ipynb",
      "provenance": [],
      "collapsed_sections": []
    },
    "kernelspec": {
      "name": "python3",
      "display_name": "Python 3"
    }
  },
  "cells": [
    {
      "cell_type": "markdown",
      "metadata": {
        "id": "8WRBNwbGX_5c"
      },
      "source": [
        "**Задание 1**"
      ]
    },
    {
      "cell_type": "code",
      "metadata": {
        "id": "C4WKEI17PhbG"
      },
      "source": [
        "import numpy as np\n",
        "from sklearn import datasets\n",
        "import matplotlib.pyplot as plt\n",
        "\n",
        "%matplotlib inline\n",
        "# сгенерируем набор данных\n",
        "\n",
        "np.random.seed(1234)\n",
        "\n",
        "data, target, coef = datasets.make_regression(n_samples=1000, n_features = 2, n_informative = 2, n_targets = 1, \n",
        "                                              noise = 5, coef = True, random_state = 2)\n",
        "# Получим средние значения и стандартное отклонение по столбцам\n",
        "\n",
        "means = np.mean(data, axis=0)\n",
        "stds = np.std(data, axis=0)\n",
        "# параметр axis указывается для вычисления значений по столбцам, а не по всему массиву\n",
        "#(см. документацию в разделе источников)\n",
        "\n",
        "# вычтем каждое значение признака из среднего и поделим на стандартное отклонение\n",
        "for i in range(data.shape[0]):\n",
        "    for j in range(data.shape[1]):\n",
        "        data[i][j] = (data[i][j] - means[j])/stds[j]"
      ],
      "execution_count": 67,
      "outputs": []
    },
    {
      "cell_type": "code",
      "metadata": {
        "id": "0SiWyB9fQZUR"
      },
      "source": [
        "# реализуем функцию, определяющую среднеквадратичную ошибку\n",
        "def mserror(X, w, y_pred, L1 = False, L2 = False):\n",
        "    y = X.dot(w)\n",
        "    if L2:\n",
        "       LW = 0.1/2*np.sum(w.T.dot(w))\n",
        "    if L1:\n",
        "       LW = 0.1*np.sum(np.abs(w))\n",
        "    else:\n",
        "       LW = 0\n",
        "    return (sum((y - y_pred)**2)) / len(y)"
      ],
      "execution_count": 68,
      "outputs": []
    },
    {
      "cell_type": "code",
      "metadata": {
        "id": "0ADooDpAQZ1h"
      },
      "source": [
        "#Стохастический градиентный спуск\n",
        "# инициализируем начальный вектор весов\n",
        "\n",
        "def SGD(L1=False, L2=False):\n",
        "      w = np.zeros(2)\n",
        "\n",
        "      # список значений ошибок после каждой итерации\n",
        "      errors_st = []\n",
        "\n",
        "      # шаг градиентного спуска\n",
        "      eta = 0.01\n",
        "\n",
        "      # максимальное число итераций\n",
        "      max_iter = 1e5\n",
        "      #1e5\n",
        "\n",
        "      # критерий сходимости (разница весов, при которой алгоритм останавливается)\n",
        "      min_weight_dist = 1e-8\n",
        "\n",
        "      # зададим начальную разницу весов большим числом\n",
        "      weight_dist = np.inf\n",
        "\n",
        "      # счетчик итераций\n",
        "      iter_num = 0\n",
        "\n",
        "      if L2:\n",
        "            LW = 0.1*np.sum(w)\n",
        "      if L1:\n",
        "            LW = 0.1*np.sum(np.sign(w))\n",
        "      else:\n",
        "            LW = 0\n",
        "\n",
        "      # ход градиентного спуска\n",
        "      while weight_dist > min_weight_dist and iter_num < max_iter:\n",
        "          \n",
        "          # генерируем случайный индекс объекта выборки\n",
        "          train_ind = np.random.randint(data.shape[0])\n",
        "          \n",
        "          new_w = w - 2 * eta * np.dot(data[train_ind].T, (np.dot(data[train_ind], w) - target[train_ind])+LW) / target.shape[0]\n",
        "          weight_dist = np.linalg.norm(new_w - w, ord=2)\n",
        "          \n",
        "\n",
        "          errors_st.append(mserror(data, new_w, target, L1, L2))\n",
        "          \n",
        "          iter_num += 1\n",
        "          w = new_w\n",
        "          \n",
        "\n",
        "\n",
        "      print(f'В случае использования стохастического градиентного спуска функционал ошибки составляет {round(errors_st[-1], 4)}')\n",
        "      return errors_st"
      ],
      "execution_count": 69,
      "outputs": []
    },
    {
      "cell_type": "code",
      "metadata": {
        "id": "uIHosFwySp9f"
      },
      "source": [
        "def GD(L1=False, L2=False):\n",
        "      #Градиентный спуск\n",
        "\n",
        "      # инициализируем начальный вектор весов\n",
        "      w = np.zeros(2)\n",
        "\n",
        "      # список значений ошибок после каждой итерации\n",
        "      errors = []\n",
        "\n",
        "      # шаг градиентного спуска\n",
        "      eta = 0.01\n",
        "\n",
        "      # максимальное число итераций\n",
        "      max_iter = 1e5\n",
        "      #1e5\n",
        "\n",
        "      # критерий сходимости (разница весов, при которой алгоритм останавливается)\n",
        "      min_weight_dist = 1e-8\n",
        "\n",
        "      # зададим начальную разницу весов большим числом\n",
        "      weight_dist = np.inf\n",
        "\n",
        "      # счетчик итераций\n",
        "      iter_num = 0\n",
        "\n",
        "\n",
        "\n",
        "      # ход градиентного спуска\n",
        "      while weight_dist > min_weight_dist and iter_num < max_iter:\n",
        "          \n",
        "          # генерируем случайный индекс объекта выборки\n",
        "          #train_ind = np.random.randint(data.shape[0])\n",
        "          \n",
        "          if L2:\n",
        "            LW = 0.1*np.sum(w)\n",
        "          if L1:\n",
        "            LW = 0.1*np.sum(np.sign(w))\n",
        "          else:\n",
        "            LW = 0\n",
        "\n",
        "          new_w = w - 2 * eta * np.dot(data.T, (np.dot(data, w) - target)+LW) / target.shape[0]\n",
        "          weight_dist = np.linalg.norm(new_w - w, ord=2)\n",
        "          \n",
        "\n",
        "          errors.append(mserror(data, new_w, target, L1, L2))\n",
        "          \n",
        "          iter_num += 1\n",
        "          w = new_w\n",
        "\n",
        "      print(f'В случае использования  градиентного спуска функционал ошибки составляет {round(errors[-1], 4)}')\n",
        "      return errors"
      ],
      "execution_count": 70,
      "outputs": []
    },
    {
      "cell_type": "code",
      "metadata": {
        "id": "Z5fza_hIdkMm",
        "outputId": "0bc04c9b-2a4f-46c7-b581-cecbf47ead74",
        "colab": {
          "base_uri": "https://localhost:8080/"
        }
      },
      "source": [
        "errors = GD()\n",
        "errors_st = SGD()"
      ],
      "execution_count": 71,
      "outputs": [
        {
          "output_type": "stream",
          "text": [
            "В случае использования  градиентного спуска функционал ошибки составляет 38.5683\n",
            "В случае использования стохастического градиентного спуска функционал ошибки составляет 248.3494\n"
          ],
          "name": "stdout"
        }
      ]
    },
    {
      "cell_type": "code",
      "metadata": {
        "id": "LyAnAURyQcPe",
        "outputId": "7bd566a0-c62a-4b7a-948f-a6cc20306dd7",
        "colab": {
          "base_uri": "https://localhost:8080/",
          "height": 316
        }
      },
      "source": [
        "# Визуализируем изменение функционала ошибки\n",
        "plt.plot(range(len(errors)), errors, color='g', label = 'GD')\n",
        "plt.plot(range(len(errors_st)), errors_st, color='r', label = 'SGD')\n",
        "plt.title('MSE')\n",
        "plt.xscale('log')\n",
        "plt.xlabel('Iteration number')\n",
        "plt.ylabel('MSE')\n",
        "plt.legend()"
      ],
      "execution_count": 72,
      "outputs": [
        {
          "output_type": "execute_result",
          "data": {
            "text/plain": [
              "<matplotlib.legend.Legend at 0x7f1e1472dc88>"
            ]
          },
          "metadata": {
            "tags": []
          },
          "execution_count": 72
        },
        {
          "output_type": "display_data",
          "data": {
            "image/png": "[encoded data removed]",
            "text/plain": [
              "<Figure size 432x288 with 1 Axes>"
            ]
          },
          "metadata": {
            "tags": [],
            "needs_background": "light"
          }
        }
      ]
    },
    {
      "cell_type": "markdown",
      "metadata": {
        "id": "o3YBLsdUXRBY"
      },
      "source": [
        "Вывод: стохастический градиентный спус сходится медленнее обычного градиентного спуска"
      ]
    },
    {
      "cell_type": "markdown",
      "metadata": {
        "id": "CTEY661MYGhh"
      },
      "source": [
        "**Задание 2**"
      ]
    },
    {
      "cell_type": "code",
      "metadata": {
        "id": "e7XhVS0QXItX",
        "outputId": "f7107030-8d57-462a-e405-af2fe3e0b9aa",
        "colab": {
          "base_uri": "https://localhost:8080/"
        }
      },
      "source": [
        "errors = GD(L2 = True)\n",
        "errors_st = SGD(L2 = True)"
      ],
      "execution_count": 80,
      "outputs": [
        {
          "output_type": "stream",
          "text": [
            "В случае использования  градиентного спуска функционал ошибки составляет 38.5683\n",
            "В случае использования стохастического градиентного спуска функционал ошибки составляет 867.5857\n"
          ],
          "name": "stdout"
        }
      ]
    },
    {
      "cell_type": "code",
      "metadata": {
        "id": "Qd1CpX30Y2Ck",
        "outputId": "98934445-0c00-4d17-80ae-1f4bfdb9c3a1",
        "colab": {
          "base_uri": "https://localhost:8080/",
          "height": 316
        }
      },
      "source": [
        "# Визуализируем изменение функционала ошибки\n",
        "plt.plot(range(len(errors)), errors, color='g', label = 'GD')\n",
        "plt.plot(range(len(errors_st)), errors_st, color='r', label = 'SGD')\n",
        "plt.title('MSE')\n",
        "plt.xscale('log')\n",
        "plt.xlabel('Iteration number')\n",
        "plt.ylabel('MSE')\n",
        "plt.legend()"
      ],
      "execution_count": 81,
      "outputs": [
        {
          "output_type": "execute_result",
          "data": {
            "text/plain": [
              "<matplotlib.legend.Legend at 0x7f1e143cf160>"
            ]
          },
          "metadata": {
            "tags": []
          },
          "execution_count": 81
        },
        {
          "output_type": "display_data",
          "data": {
            "image/png": "[encoded data removed]",
            "text/plain": [
              "<Figure size 432x288 with 1 Axes>"
            ]
          },
          "metadata": {
            "tags": [],
            "needs_background": "light"
          }
        }
      ]
    },
    {
      "cell_type": "markdown",
      "metadata": {
        "id": "4T464r1LnHf7"
      },
      "source": [
        "Стохастический градиентный спуск стал сходиться медленнее"
      ]
    },
    {
      "cell_type": "markdown",
      "metadata": {
        "id": "COJiyDwOhNCh"
      },
      "source": [
        "**Задание 3**"
      ]
    },
    {
      "cell_type": "code",
      "metadata": {
        "id": "INyg1floZEjM",
        "outputId": "9ffad53b-37e4-492d-95c3-ec743fe4d1b5",
        "colab": {
          "base_uri": "https://localhost:8080/"
        }
      },
      "source": [
        "errors = GD(L1 = True)\n",
        "errors_st = SGD(L1 = True)"
      ],
      "execution_count": 77,
      "outputs": [
        {
          "output_type": "stream",
          "text": [
            "В случае использования  градиентного спуска функционал ошибки составляет 38.5683\n",
            "В случае использования стохастического градиентного спуска функционал ошибки составляет 3791.2806\n"
          ],
          "name": "stdout"
        }
      ]
    },
    {
      "cell_type": "code",
      "metadata": {
        "id": "wPYB1WEKhTgs",
        "outputId": "4bdfb19f-fbe8-4987-ff41-dfbb1d31140a",
        "colab": {
          "base_uri": "https://localhost:8080/",
          "height": 316
        }
      },
      "source": [
        "# Визуализируем изменение функционала ошибки\n",
        "plt.plot(range(len(errors)), errors, color='g', label = 'GD')\n",
        "plt.plot(range(len(errors_st)), errors_st, color='r', label = 'SGD')\n",
        "plt.title('MSE')\n",
        "plt.xscale('log')\n",
        "plt.xlabel('Iteration number')\n",
        "plt.ylabel('MSE')\n",
        "plt.legend()"
      ],
      "execution_count": 78,
      "outputs": [
        {
          "output_type": "execute_result",
          "data": {
            "text/plain": [
              "<matplotlib.legend.Legend at 0x7f1e14d8bc18>"
            ]
          },
          "metadata": {
            "tags": []
          },
          "execution_count": 78
        },
        {
          "output_type": "display_data",
          "data": {
            "image/png": "[encoded data removed]",
            "text/plain": [
              "<Figure size 432x288 with 1 Axes>"
            ]
          },
          "metadata": {
            "tags": [],
            "needs_background": "light"
          }
        }
      ]
    }
  ]
}