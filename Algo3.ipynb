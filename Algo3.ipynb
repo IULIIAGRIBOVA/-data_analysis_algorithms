{
  "nbformat": 4,
  "nbformat_minor": 0,
  "metadata": {
    "colab": {
      "name": "Algo3.ipynb",
      "provenance": [],
      "collapsed_sections": []
    },
    "kernelspec": {
      "name": "python3",
      "display_name": "Python 3"
    }
  },
  "cells": [
    {
      "cell_type": "code",
      "metadata": {
        "id": "xXiAD4Z-pZ-i"
      },
      "source": [
        "import numpy as np\n",
        "import matplotlib.pyplot as plt\n",
        "from sklearn import datasets"
      ],
      "execution_count": 6,
      "outputs": []
    },
    {
      "cell_type": "code",
      "metadata": {
        "id": "0NI2IOngoxOb"
      },
      "source": [
        "def sigmoid(z):\n",
        "    res = 1 / (1 + np.exp(-z))\n",
        "    return res"
      ],
      "execution_count": 2,
      "outputs": []
    },
    {
      "cell_type": "code",
      "metadata": {
        "id": "ebWLZMOPo5cA"
      },
      "source": [
        "def calc_logloss(y, y_pred):\n",
        "  err=0\n",
        "  for i in range(y.shape[0]):\n",
        "    if (y[i]==0. and y_pred[i]==1.) or (y[i]==1. and y_pred[i]==0.):\n",
        "      err=10000\n",
        "      return err\n",
        "    if (y[i]==0. and y_pred[i]==0.) or (y[i]==1. and y_pred[i]==1.):\n",
        "      err +=0\n",
        "    else:\n",
        "      err += y[i] * np.log(y_pred[i]) + (1.0 - y[i]) * np.log(1.0 - y_pred[i])\n",
        "    \n",
        "    \n",
        "  err = -err/y.shape[0]\n",
        "\n",
        "  return err"
      ],
      "execution_count": 3,
      "outputs": []
    },
    {
      "cell_type": "code",
      "metadata": {
        "id": "pCkGta20o_zb"
      },
      "source": [
        "def eval_model(X, y, iterations, alpha=1e-4):\n",
        "    np.random.seed(42)\n",
        "    W = np.random.randn(X.shape[0])\n",
        "    n = X.shape[1]\n",
        "    mas_err = []\n",
        "    for i in range(1, iterations+1):\n",
        "        z = np.dot(W, X)\n",
        "        y_pred = sigmoid(z)\n",
        "        err = calc_logloss(y, y_pred)\n",
        "        mas_err.append(err)\n",
        "        W -= alpha * (1/n * np.dot((y_pred - y), X.T))\n",
        "    return W, mas_err"
      ],
      "execution_count": 4,
      "outputs": []
    },
    {
      "cell_type": "code",
      "metadata": {
        "id": "C1K8OtQBA6oC"
      },
      "source": [
        "classes = datasets.make_classification(n_samples=100, n_features=2, n_informative=2,\n",
        "                                       n_redundant=0, n_classes=2, random_state=1)\n",
        "# перемешивание датасета\n",
        "np.random.seed(12)\n",
        "shuffle_index = np.random.permutation(classes[0].shape[0])\n",
        "X_shuffled, y_shuffled = classes[0][shuffle_index], classes[1][shuffle_index]\n",
        "\n",
        "# разбивка на обучающую и тестовую выборки\n",
        "train_proportion = 0.7\n",
        "train_test_cut = int(len(classes[0]) * train_proportion)\n",
        "\n",
        "X_train, X_test, y_train, y_test = \\\n",
        "    X_shuffled[:train_test_cut], \\\n",
        "    X_shuffled[train_test_cut:], \\\n",
        "    y_shuffled[:train_test_cut], \\\n",
        "    y_shuffled[train_test_cut:]"
      ],
      "execution_count": 7,
      "outputs": []
    },
    {
      "cell_type": "code",
      "metadata": {
        "id": "_fjW1RfZGkts"
      },
      "source": [
        "def calc_pred_proba(W, X):\n",
        "  y_pred_proba = sigmoid(np.dot(W, X))\n",
        "  return y_pred_proba"
      ],
      "execution_count": 8,
      "outputs": []
    },
    {
      "cell_type": "code",
      "metadata": {
        "id": "VzW5yDrUDsY-"
      },
      "source": [
        "def calc_pred(w, X):\n",
        "    \n",
        "    m = X.shape[1]\n",
        "    \n",
        "    y_predicted = np.zeros((1, m))\n",
        "    w = w.reshape(X.shape[0], 1)\n",
        "    \n",
        "    A = sigmoid(np.dot(w.T, X))\n",
        "    \n",
        "#     За порог отнесения к тому или иному классу примем вероятность 0.5\n",
        "    for i in range(A.shape[1]):\n",
        "        if (A[:,i] > 0.5): \n",
        "            y_predicted[:, i] = 1\n",
        "        elif (A[:,i] <= 0.5):\n",
        "            y_predicted[:, i] = 0\n",
        "    \n",
        "    return y_predicted"
      ],
      "execution_count": 9,
      "outputs": []
    },
    {
      "cell_type": "code",
      "metadata": {
        "id": "x3_tzUWmpCDo"
      },
      "source": [
        "X_train=X_train.T\n",
        "y_train = y_train.T\n",
        "W, err = eval_model(X_train, y_train, iterations=10000, alpha=0.05)"
      ],
      "execution_count": 10,
      "outputs": []
    },
    {
      "cell_type": "code",
      "metadata": {
        "id": "Y9huUjkrpFTp",
        "outputId": "246c1db0-690b-4166-aafb-1c0e3b9fcb6c",
        "colab": {
          "base_uri": "https://localhost:8080/",
          "height": 284
        }
      },
      "source": [
        "plt.plot(range(len(err)), err)"
      ],
      "execution_count": 11,
      "outputs": [
        {
          "output_type": "execute_result",
          "data": {
            "text/plain": [
              "[<matplotlib.lines.Line2D at 0x7fbc2c04e4e0>]"
            ]
          },
          "metadata": {
            "tags": []
          },
          "execution_count": 11
        },
        {
          "output_type": "display_data",
          "data": {
            "image/png": "[encoded data removed]",
            "text/plain": [
              "<Figure size 432x288 with 1 Axes>"
            ]
          },
          "metadata": {
            "tags": [],
            "needs_background": "light"
          }
        }
      ]
    },
    {
      "cell_type": "code",
      "metadata": {
        "id": "5271kOMkFAfZ",
        "outputId": "d4ffc61d-5a52-49ad-faf9-7a9873555594",
        "colab": {
          "base_uri": "https://localhost:8080/"
        }
      },
      "source": [
        "submissions = calc_pred(W, X_train)\n",
        "submissions = submissions.squeeze()\n",
        "TP = 0\n",
        "TN = 0\n",
        "FP = 0\n",
        "FN = 0\n",
        "for i, k in zip(y_train, submissions):\n",
        "    if i==1 and k==1:\n",
        "       TP += 1\n",
        "    if i==0 and k==0:  \n",
        "       TN+=1\n",
        "    if i==0 and k==1:\n",
        "       FP+=1\n",
        "    if i==1 and k==0:\n",
        "       FN+=1\n",
        "  \n",
        "print(\"TP=\", TP)\n",
        "print(\"TN=\" ,TN)\n",
        "print(\"FP=\", FP)\n",
        "print(\"FN=\", FN)"
      ],
      "execution_count": 12,
      "outputs": [
        {
          "output_type": "stream",
          "text": [
            "TP= 33\n",
            "TN= 36\n",
            "FP= 0\n",
            "FN= 1\n"
          ],
          "name": "stdout"
        }
      ]
    },
    {
      "cell_type": "code",
      "metadata": {
        "id": "cMpGTU8NFcZB",
        "outputId": "7192b0fc-7691-4165-ca2d-66f183f1c4ba",
        "colab": {
          "base_uri": "https://localhost:8080/"
        }
      },
      "source": [
        "\n",
        "precision = TP/(TP+FP)\n",
        "recall = TP/(TP+FN)\n",
        "accuracy = (TP+TN)/y_train.shape[0]\n",
        "F1 = 2*(precision*recall/(precision+recall))\n",
        "\n",
        "print(\"precision=\", precision)\n",
        "print(\"recall=\",recall)\n",
        "print(\"accuracy=\",accuracy)\n",
        "print(\"F1=\", F1)"
      ],
      "execution_count": 18,
      "outputs": [
        {
          "output_type": "stream",
          "text": [
            "precision= 1.0\n",
            "recall= 0.9705882352941176\n",
            "accuracy= 0.9857142857142858\n",
            "F1= 0.9850746268656716\n"
          ],
          "name": "stdout"
        }
      ]
    },
    {
      "cell_type": "markdown",
      "metadata": {
        "id": "9DyVXs4AnXUk"
      },
      "source": [
        "Проверка на тесте:"
      ]
    },
    {
      "cell_type": "code",
      "metadata": {
        "id": "2ufgMbVzm0lY",
        "outputId": "897749a6-8aaa-4d5b-f720-df4d19443fe7",
        "colab": {
          "base_uri": "https://localhost:8080/"
        }
      },
      "source": [
        "X_test=X_test.T\n",
        "y_test = y_test.T\n",
        "submissions = calc_pred(W, X_test)\n",
        "submissions = submissions.squeeze()\n",
        "TP = 0\n",
        "TN = 0\n",
        "FP = 0\n",
        "FN = 0\n",
        "for i, k in zip(y_test, submissions):\n",
        "    if i==1 and k==1:\n",
        "       TP += 1\n",
        "    if i==0 and k==0:  \n",
        "       TN+=1\n",
        "    if i==0 and k==1:\n",
        "       FP+=1\n",
        "    if i==1 and k==0:\n",
        "       FN+=1\n",
        "  \n",
        "print(\"TP=\", TP)\n",
        "print(\"TN=\" ,TN)\n",
        "print(\"FP=\", FP)\n",
        "print(\"FN=\", FN)"
      ],
      "execution_count": 19,
      "outputs": [
        {
          "output_type": "stream",
          "text": [
            "TP= 15\n",
            "TN= 14\n",
            "FP= 0\n",
            "FN= 1\n"
          ],
          "name": "stdout"
        }
      ]
    },
    {
      "cell_type": "code",
      "metadata": {
        "id": "mYRUj0LvnNfw",
        "outputId": "15001930-149a-4e7e-d685-2b9f50900784",
        "colab": {
          "base_uri": "https://localhost:8080/"
        }
      },
      "source": [
        "\n",
        "precision = TP/(TP+FP)\n",
        "recall = TP/(TP+FN)\n",
        "accuracy = (TP+TN)/y_test.shape[0]\n",
        "F1 = 2*(precision*recall/(precision+recall))\n",
        "\n",
        "print(\"precision=\", precision)\n",
        "print(\"recall=\",recall)\n",
        "print(\"accuracy=\",accuracy)\n",
        "print(\"F1=\", F1)"
      ],
      "execution_count": 21,
      "outputs": [
        {
          "output_type": "stream",
          "text": [
            "precision= 1.0\n",
            "recall= 0.9375\n",
            "accuracy= 0.9666666666666667\n",
            "F1= 0.967741935483871\n"
          ],
          "name": "stdout"
        }
      ]
    },
    {
      "cell_type": "markdown",
      "metadata": {
        "id": "nInLJXGwnc7Q"
      },
      "source": [
        "На тесте accuracy меньше, это означает, что модель могла переобучиться. Возможно это связано с небольшим датасетом и отсутствием регуляризации."
      ]
    }
  ]
}