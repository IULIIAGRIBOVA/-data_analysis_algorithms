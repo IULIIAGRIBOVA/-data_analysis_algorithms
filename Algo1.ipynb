{
  "nbformat": 4,
  "nbformat_minor": 0,
  "metadata": {
    "colab": {
      "name": "Algo1.ipynb",
      "provenance": [],
      "collapsed_sections": []
    },
    "kernelspec": {
      "name": "python3",
      "display_name": "Python 3"
    }
  },
  "cells": [
    {
      "cell_type": "code",
      "metadata": {
        "id": "rWCQRXRSOrFJ"
      },
      "source": [
        "# сгенерируем матрицу X, вычислим Y с добавлением случайного шума\n",
        "import numpy as np\n",
        "n_features = 2\n",
        "n_objects = 1000\n",
        "X = np.random.uniform(-7, 7, (n_features, n_objects ))\n",
        "w_true = np.random.normal(size=(n_features, ))\n",
        "Y = w_true.dot(X) + np.random.normal(0, 0.5, size=(n_objects))\n",
        "np.random.seed(1234)"
      ],
      "execution_count": 93,
      "outputs": []
    },
    {
      "cell_type": "code",
      "metadata": {
        "id": "5z03bw4jQgLP"
      },
      "source": [
        "# реализуем функцию, определяющую среднеквадратичную ошибку\n",
        "def calc_mse(Y, y_pred):\n",
        "    return (sum((Y - y_pred)**2)) / len(Y)"
      ],
      "execution_count": 59,
      "outputs": []
    },
    {
      "cell_type": "markdown",
      "metadata": {
        "id": "0WKqavgzgI9m"
      },
      "source": [
        "Задание 1:"
      ]
    },
    {
      "cell_type": "code",
      "metadata": {
        "id": "C48KSlZPaf6E",
        "outputId": "b6a06483-cbac-49d8-fa18-6338ae98bcea",
        "colab": {
          "base_uri": "https://localhost:8080/"
        }
      },
      "source": [
        "factor = 10\n",
        "alpha = 0.1\n",
        "# возьмем нулевые начальные веса\n",
        "W = np.zeros(n_features)\n",
        "for i in range(300):\n",
        "    y_pred = np.dot(W, X)\n",
        "    err = calc_mse(Y, y_pred)\n",
        "    for ii in range(W.shape[0]):\n",
        "      W[ii] -= (alpha * (1/len(Y) * 2 * np.sum(X[ii] * (y_pred - Y))))\n",
        "    if i % 100 == 0:\n",
        "        alpha=alpha/factor\n",
        "        print(i, W, err, W.shape, alpha)"
      ],
      "execution_count": 95,
      "outputs": [
        {
          "output_type": "stream",
          "text": [
            "0 [1.36141205 2.40785424] 11.525525878116028 (2,) 0.01\n",
            "100 [0.40981155 0.70546379] 0.2426440584378057 (2,) 0.001\n",
            "200 [0.40981155 0.70546379] 0.2426440584378057 (2,) 0.0001\n"
          ],
          "name": "stdout"
        }
      ]
    },
    {
      "cell_type": "markdown",
      "metadata": {
        "id": "Sz358jMtjo7y"
      },
      "source": [
        "Задание 2:"
      ]
    },
    {
      "cell_type": "code",
      "metadata": {
        "id": "HwWphAr5RQUf",
        "outputId": "271875b0-5533-4c2b-daa7-fa14d7c45cc4",
        "colab": {
          "base_uri": "https://localhost:8080/"
        }
      },
      "source": [
        "W = np.zeros(n_features)\n",
        "alpha = 0.01\n",
        "for i in range(1000):\n",
        "    y_pred = np.dot(W, X)\n",
        "    err = calc_mse(Y, y_pred)\n",
        "    W -= (alpha * (1/len(Y) * 2 * np.dot(X , (y_pred - Y))))\n",
        "    if i % 100 == 0:\n",
        "        print(i, W, err, W.shape)\n",
        "    \n"
      ],
      "execution_count": 91,
      "outputs": [
        {
          "output_type": "stream",
          "text": [
            "0 [0.1361412  0.24078542] 11.525525878116028 (2,)\n",
            "100 [0.40981155 0.70546379] 0.24264405843780573 (2,)\n",
            "200 [0.40981155 0.70546379] 0.24264405843780573 (2,)\n",
            "300 [0.40981155 0.70546379] 0.24264405843780573 (2,)\n",
            "400 [0.40981155 0.70546379] 0.24264405843780573 (2,)\n",
            "500 [0.40981155 0.70546379] 0.24264405843780573 (2,)\n",
            "600 [0.40981155 0.70546379] 0.24264405843780573 (2,)\n",
            "700 [0.40981155 0.70546379] 0.24264405843780573 (2,)\n",
            "800 [0.40981155 0.70546379] 0.24264405843780573 (2,)\n",
            "900 [0.40981155 0.70546379] 0.24264405843780573 (2,)\n"
          ],
          "name": "stdout"
        }
      ]
    }
  ]
}